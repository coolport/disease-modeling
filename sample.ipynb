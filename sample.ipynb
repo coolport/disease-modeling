{
 "cells": [
  {
   "cell_type": "code",
   "execution_count": 1,
   "id": "293c517b-93d7-4a5f-ba1b-44a7a4cb52b5",
   "metadata": {},
   "outputs": [],
   "source": [
    "#gitinit"
   ]
  },
  {
   "cell_type": "code",
   "execution_count": null,
   "id": "bd39ef42-c599-4ca6-9b62-c7a8f2e74186",
   "metadata": {},
   "outputs": [],
   "source": []
  }
 ],
 "metadata": {
  "kernelspec": {
   "display_name": "Python 3 (ipykernel)",
   "language": "python",
   "name": "python3"
  },
  "language_info": {
   "codemirror_mode": {
    "name": "ipython",
    "version": 3
   },
   "file_extension": ".py",
   "mimetype": "text/x-python",
   "name": "python",
   "nbconvert_exporter": "python",
   "pygments_lexer": "ipython3",
   "version": "3.11.2"
  }
 },
 "nbformat": 4,
 "nbformat_minor": 5
}
