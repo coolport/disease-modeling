{
 "cells": [
  {
   "cell_type": "code",
   "execution_count": 4,
   "id": "218404a9-3ec1-4685-9fe5-15483cf44f04",
   "metadata": {},
   "outputs": [],
   "source": [
    "import torch\n",
    "from torch import nn\n",
    "from torch.utils.data import DataLoader\n",
    "from torchvision import datasets, transforms\n",
    "from torchvision.transforms import ToTensor"
   ]
  },
  {
   "cell_type": "code",
   "execution_count": 7,
   "id": "e9c96cbc-1437-460c-a576-4e3706d84ad8",
   "metadata": {},
   "outputs": [],
   "source": [
    "dataset = datasets.ImageFolder(root='/home/aidan/code/python/modeling/finals/rice-leaf-disease-image/versions/1/', transform=transform)\n",
    "dataloader = DataLoader(dataset, batch_size=32, shuffle=True)"
   ]
  },
  {
   "cell_type": "code",
   "execution_count": 8,
   "id": "de78543b-b0f5-47f7-8ea5-8b3bbbd8d3c4",
   "metadata": {},
   "outputs": [
    {
     "name": "stdout",
     "output_type": "stream",
     "text": [
      "{'Bacterialblight': 0, 'Blast': 1, 'Brownspot': 2, 'Tungro': 3}\n"
     ]
    }
   ],
   "source": [
    "print(dataset.class_to_idx)"
   ]
  },
  {
   "cell_type": "code",
   "execution_count": 5,
   "id": "cc6b3832-9b48-4f4a-9e47-ab9504f1c4cf",
   "metadata": {},
   "outputs": [],
   "source": [
    "transform = transforms.Compose([\n",
    "    transforms.Resize((224, 224)),  \n",
    "    transforms.ToTensor(),\n",
    "])"
   ]
  },
  {
   "cell_type": "code",
   "execution_count": 14,
   "id": "30665cd7-2626-4015-ae4b-24836053f7f5",
   "metadata": {},
   "outputs": [
    {
     "name": "stdout",
     "output_type": "stream",
     "text": [
      "tensor([[1, 2],\n",
      "        [3, 4]]) True\n"
     ]
    }
   ],
   "source": [
    "# trying to visualize tensors\n",
    "testdata = [[1,2], [3,4]]\n",
    "tensored = torch.tensor(testdata)\n",
    "print(tensored, torch.is_tensor(tensored))"
   ]
  },
  {
   "cell_type": "code",
   "execution_count": null,
   "id": "be8cbccc-4b4c-4089-b03d-d760918d77a3",
   "metadata": {},
   "outputs": [],
   "source": []
  }
 ],
 "metadata": {
  "kernelspec": {
   "display_name": "Python 3 (ipykernel)",
   "language": "python",
   "name": "python3"
  },
  "language_info": {
   "codemirror_mode": {
    "name": "ipython",
    "version": 3
   },
   "file_extension": ".py",
   "mimetype": "text/x-python",
   "name": "python",
   "nbconvert_exporter": "python",
   "pygments_lexer": "ipython3",
   "version": "3.11.2"
  }
 },
 "nbformat": 4,
 "nbformat_minor": 5
}
